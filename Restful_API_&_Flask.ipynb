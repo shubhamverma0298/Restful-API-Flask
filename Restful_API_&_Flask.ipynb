{
  "nbformat": 4,
  "nbformat_minor": 0,
  "metadata": {
    "colab": {
      "provenance": []
    },
    "kernelspec": {
      "name": "python3",
      "display_name": "Python 3"
    },
    "language_info": {
      "name": "python"
    }
  },
  "cells": [
    {
      "cell_type": "markdown",
      "source": [
        "#**Restful API & Flask Assignment**"
      ],
      "metadata": {
        "id": "EbiLLrcIWChk"
      }
    },
    {
      "cell_type": "markdown",
      "source": [
        "**Q 1 What is a RESTful API?**\n",
        "  - A RESTful API is an application programming interface (API) that adheres to the principles of Representational State Transfer (REST). It allows clients to access and manipulate data on a server using standard HTTP methods like GET, POST, PUT, and DELETE. Essentially, it's a standardized way for software systems to communicate and exchange information over the internet\n",
        "\n",
        "**Q 2 Explain the concept of API specification?**\n",
        "  - An API specification is a formal document that describes the structure, format, and expected behavior of an API. It's like a blueprint for the API, detailing its operations, endpoints, input/output, and data models. This document serves as a contract for developers, defining how they should interact with the API.\n",
        "\n",
        "**Q 3 What is Flask, and why is it popular for building APIs?**\n",
        "  - Flask is a lightweight, flexible Python microframework primarily used for building web applications and APIs. It's a popular choice for API development due to its simplicity, ease of use, and extensibility, allowing developers to create RESTful APIs quickly and efficiently.\n",
        "\n",
        "**Q 4 What is routing in Flask?**\n",
        "  - outing in Flask refers to the mechanism of mapping specific URLs (Uniform Resource Locators) to corresponding Python functions. It dictates how a web application responds to different client requests, enabling the delivery of relevant content based on the accessed URL. In essence, routing establishes the connection between a user's request and the server-side logic that handles it.\n",
        "  - The @app.route() decorator plays a central role in defining routes within a Flask application. It associates a URL path with a designated function, which is executed when that path is accessed\n",
        "  - Example :\n",
        "              from flask import Flask\n",
        "\n",
        "              app = Flask(__name__)\n",
        "\n",
        "              @app.route('/')\n",
        "              def home():\n",
        "                  return \"Welcome to the homepage!\"\n",
        "\n",
        "              @app.route('/about')\n",
        "              def about():\n",
        "                  return \"This is the about page.\"\n",
        "\n",
        "              if __name__ == '__main__':\n",
        "                  app.run(debug=True)\n",
        "\n",
        "**Q 5 How do you create a simple Flask application?**\n",
        "  - example to create a FLASK application is as follow\n",
        "        from flask import Flask\n",
        "\n",
        "            app = Flask(__name__)\n",
        "\n",
        "            @app.route('/')\n",
        "            def hello_world():\n",
        "                return 'Hello, World!'\n",
        "\n",
        "            if __name__ == '__main__':\n",
        "            app.run(debug=True)\n",
        "\n",
        "**Q 6 What are HTTP methods used in RESTful APIs?**\n",
        "  - The primary HTTP methods used in RESTful APIs are GET, POST, PUT, PATCH, and DELETE, which map to the core CRUD operations of Create, Read, Update, and Delete. These methods are fundamental for interacting with resources in a RESTful API.\n",
        "\n",
        "**Q 7 What is the purpose of the @app.route() decorator in Flask?**\n",
        "  - The @app.route() decorator in Flask is used for URL routing. It binds a specific URL path to a Python function. When a client (like a web browser) sends a request to that URL, Flask executes the associated function and returns its output as the response. This mechanism allows developers to define different functionalities for various URLs within their web application, creating a structured and navigable web experience.\n",
        "\n",
        "**Q 8 What is the difference between GET and POST HTTP methods?**\n",
        "  -  GET is used to request data from a server, while POST is used to send data to a server for processing, often to create or update resources\n",
        "\n",
        "**Q 9 How do you handle errors in Flask APIs?**\n",
        "  - Error handling in Flask APIs can be achieved through several methods:\n",
        "      - HTTP Exception\n",
        "      - Error Handlers\n",
        "      - abort() Function\n",
        "      - Try-Except Blocks\n",
        "      - Flask-RESTful Error Handling\n",
        "      - Debug Mode\n",
        "      - Logging\n",
        "\n",
        "**Q 10 How do you connect Flask to a SQL database?**\n",
        "  - To create a database we need to import SQLAlchemy in app.py, set up SQLite configuration, and create a database instance as shown below. We set up Flask, connect it to a SQLite database (site. db), and use db. create_all() to create the database when the app runs\n",
        "\n",
        "**Q 11 What is the role of Flask-SQLAlchemy?**\n",
        "  - Flask-SQLAlchemy is a Flask extension that makes using SQLAlchemy with Flask easier, providing you tools and methods to interact with your database in your Flask applications through SQLAlchemy\n",
        "\n",
        "**Q 12 What are Flask blueprints, and how are they useful?**\n",
        "  - Each Flask Blueprint is an object that works very similarly to a Flask application. They both can have resources, such as static files, templates, and views that are associated with routes. However, a Flask Blueprint is not actually an application. It needs to be registered in an application before you can run it.\n",
        "\n",
        "**Q 13 What is the purpose of Flask's request object?**\n",
        "  - The Flask request object serves as a carrier for all incoming data from a client's request to the server. It encapsulates various components of the HTTP request\n",
        "\n",
        "**Q 14 How do you create a RESTful API endpoint using Flask?**\n",
        "  - REST stands for REpresentational State Transfer and is an architectural style used in modern web development. It defines a set or rules/constraints for a web application to send and receive data.\n",
        "\n",
        "  - In this article, we will build a REST API in Python using the Flask framework. Flask is a popular micro framework for building web applications. Since it is a micro-framework, it is very easy to use and lacks most of the advanced functionality which is found in a full-fledged framework. Therefore, building a REST API in Flask is very simple\n",
        "\n",
        "**Q 15 What is the purpose of Flask's jsonify() function?**\n",
        "  - Flask's jsonify() function is used to create a JSON response from Python objects (usually dictionaries) and return it as a Flask.Response object. It automatically sets the Content-Type header to application/json, making it suitable for creating JSON-based APIs.\n",
        "\n",
        "**Q 16 Explain Flask’s url_for() function?**\n",
        "  - In Flask, the url_for() function generates a URL for a specific function based on its name and arguments. It dynamically constructs URLs, avoiding hardcoding and making applications more maintainable. The function takes the name of the view function as its first argument and any number of keyword arguments, each corresponding to a variable part of the URL rule.\n",
        "\n",
        "**Q 17 How does Flask handle static files (CSS, JavaScript, etc.)?**\n",
        "  - Flask, by default, serves static files such as CSS, JavaScript, and images from a folder named static located in the same directory as the main application file. To include these files in templates, the url_for() function is used, generating the correct path to the static files.\n",
        "\n",
        "**Q 18 What is an API specification, and how does it help in building a Flask API?**\n",
        "  - An API specification is a formal document that outlines the elements of an API, acting as a blueprint for its design and development. It details the API's operations, endpoints, input/output formats, and data models, essentially serving as a contract between API creators and users. API specifications are crucial for consistent API development, documentation, and testing\n",
        "  - It defines a set or rules/constraints for a web application to send and receive data. In this article, we will build a REST API in Python.\n",
        "\n",
        "**Q 19 What are HTTP status codes, and why are they important in a Flask API?**\n",
        "  - HTTP status codes the server can generate in response to an HTTP POST or\n",
        "  HTTP GET request:\n",
        "\n",
        "    - 200 OK: Successful request.\n",
        "    - 400 Bad Request: Invalid argument (invalid request payload).\n",
        "    - 403 Forbidden: Permission denied (e.g. invalid API key).\n",
        "    - 429 Resource Exhausted: Either out of resource quota or reaching rate\n",
        "      limiting.\n",
        "    - 500 Internal Server Error: Internal server error (retry your request).\n",
        "    - 503 Service Unavailable: Unavailable.\n",
        "    - 504 Gateway Timeout: Deadline exceeded (retry your request).\n",
        "\n",
        "**Q 20 How do you handle POST requests in Flask?**\n",
        "  - To handle POST requests in Flask, the methods parameter in the @app.route decorator should be used to specify that the route accepts POST requests. The request object from Flask is then used to access the data sent in the request\n",
        "  - example :\n",
        "              from flask import Flask, request, render_template_string\n",
        "\n",
        "              app = Flask(__name__)\n",
        "\n",
        "              @app.route('/submit', methods=['GET', 'POST'])\n",
        "              def submit():\n",
        "                  if request.method == 'POST':\n",
        "                      name = request.form['name']\n",
        "                      return render_template_string(\"<h1>Hello {{ name }}!</h1>\", name=name)\n",
        "                  return render_template_string('''\n",
        "                      <form method=\"POST\">\n",
        "                          <label for=\"name\">Name:</label>\n",
        "                          <input type=\"text\" id=\"name\" name=\"name\"><br><br>\n",
        "                          <input type=\"submit\" value=\"Submit\">\n",
        "                      </form>\n",
        "                  ''')\n",
        "\n",
        "              if __name__ == '__main__':\n",
        "                  app.run(debug=True)\n",
        "\n",
        "**Q 21 How would you secure a Flask API?**\n",
        "  - Securing a Flask API involves several key strategies that should be implemented to protect against common web vulnerabilities.\n",
        "    - Use HTTPS\n",
        "    - Authentication\n",
        "    - Authorization\n",
        "    - Input validation\n",
        "    - Output encoding\n",
        "    - Error handling\n",
        "    - Rate limiting\n",
        "    - Security headers\n",
        "    - Password hashing\n",
        "\n",
        "**Q 22 What is the significance of the Flask-RESTful extension?**\n",
        "  - The Flask-RESTful extension significantly simplifies building RESTful APIs in Flask by providing a high-level abstraction and a set of tools that streamline the process. It encourages best practices and reduces the amount of boilerplate code needed, making it easier to create, manage, and scale RESTful APIs. Essentially, it helps developers focus on the core logic of their API rather than getting bogged down in the details of routing and request handling.\n",
        "\n",
        "**Q 23 What is the role of Flask’s session object?**\n",
        "  - Sessions in Flask store user-specific data across requests, like login status, using cookies. Data is stored on the client side but signed with a secret key to ensure security. They help maintain user sessions without requiring constant authentication\n",
        "\n",
        "\n"
      ],
      "metadata": {
        "id": "Uv89LqE2WIF6"
      }
    },
    {
      "cell_type": "markdown",
      "source": [
        "#**Practical Questions**"
      ],
      "metadata": {
        "id": "eQvPSkTuekV_"
      }
    },
    {
      "cell_type": "markdown",
      "source": [
        "**Q 1 How do you create a basic Flask application?**"
      ],
      "metadata": {
        "id": "ngjBfJisesGW"
      }
    },
    {
      "cell_type": "code",
      "source": [
        "from flask import Flask\n",
        "\n",
        "app = Flask(__name__)\n",
        "\n",
        "@app.route('/')\n",
        "def hello_world():\n",
        "    return 'Hello, World!'\n",
        "\n",
        "if __name__ == '__main__':\n",
        "    app.run(debug=True)"
      ],
      "metadata": {
        "id": "8xhf6o9tfASQ"
      },
      "execution_count": null,
      "outputs": []
    },
    {
      "cell_type": "markdown",
      "source": [
        "**Q 2 How do you serve static files like images or CSS in Flask?**"
      ],
      "metadata": {
        "id": "QzhTWY-ie3RH"
      }
    },
    {
      "cell_type": "code",
      "source": [
        "from flask import Flask, send_from_directory\n",
        "\n",
        "app = Flask(__name__)\n",
        "\n",
        "@app.route('/static/<path:filename>')\n",
        "def static_files(filenames):\n",
        "    return send_from_directory(app.static_folder, filenames)\n",
        "\n",
        "if __name__ == '__main__':\n",
        "    app.run(debug=True)"
      ],
      "metadata": {
        "id": "ukHuQHlwfROX"
      },
      "execution_count": null,
      "outputs": []
    },
    {
      "cell_type": "markdown",
      "source": [
        "**Q 3  How do you define different routes with different HTTP methods in Flask?**"
      ],
      "metadata": {
        "id": "kvy-qdVPfXXs"
      }
    },
    {
      "cell_type": "code",
      "source": [
        "from flask import Flask, request\n",
        "\n",
        "app = Flask(__name__)\n",
        "\n",
        "@app.route('/g', methods=['GET'])\n",
        "def example_routeg():\n",
        "     request.method == 'GET':\n",
        "     return \"This is a GET request\"\n",
        "@app.route('/p', methods=['POST'])\n",
        "def example_routep():\n",
        "    request.method == 'POST':\n",
        "    return \"This is a POST request\"\n",
        "@app.route('/u', methods=['PUT'])\n",
        "def example_routed():\n",
        "    request.method == 'PUT':\n",
        "    return \"This is a PUT request\"\n",
        "@app.route('/d', methods=['DELETE'])\n",
        "def example_routeu():\n",
        "     request.method == 'DELETE':\n",
        "     return \"This is a DELETE request\"\n",
        "\n",
        "if __name__ == '__main__':\n",
        "    app.run(debug=True)"
      ],
      "metadata": {
        "id": "3l31DWO3fi-N"
      },
      "execution_count": null,
      "outputs": []
    },
    {
      "cell_type": "markdown",
      "source": [
        "**Q 4  How do you render HTML templates in Flask?**"
      ],
      "metadata": {
        "id": "xpAa761YbR6D"
      }
    },
    {
      "cell_type": "code",
      "source": [
        "from flask import render_template\n",
        "\n",
        "@app.route('/template')\n",
        "def render_html_template():\n",
        "    return render_template('template.html', name=\"Example\")\n"
      ],
      "metadata": {
        "id": "qhG2QS4pb5Fb"
      },
      "execution_count": null,
      "outputs": []
    },
    {
      "cell_type": "markdown",
      "source": [
        "**Q 5  How can you generate URLs for routes in Flask using url_for?**"
      ],
      "metadata": {
        "id": "0Ljcy_PCb5ul"
      }
    },
    {
      "cell_type": "code",
      "source": [
        "from flask import url_for\n",
        "\n",
        "@app.route('/user/<username>')\n",
        "def profile(username):\n",
        "    return f'{username}\\'s profile'\n"
      ],
      "metadata": {
        "id": "4I4Xecrvby7F"
      },
      "execution_count": null,
      "outputs": []
    },
    {
      "cell_type": "markdown",
      "source": [
        "**Q 6 How do you handle forms in Flask?**"
      ],
      "metadata": {
        "id": "W-_yxSdob9bf"
      }
    },
    {
      "cell_type": "code",
      "source": [
        "from flask import Flask, request, render_template\n",
        "\n",
        "app = Flask(__name__)\n",
        "@app.route('/submit', methods=['GET', 'POST'])\n",
        "def submit():\n",
        "    if request.method == 'POST':\n",
        "        name = request.form['name']\n",
        "        return render_template_string(\"<h1>Hello {{ name }}!</h1>\", name=name)\n",
        "    return render_template_string('''\n",
        "        <form method=\"POST\">\n",
        "            <label for=\"name\">Name:</label>\n",
        "            <input type=\"text\" id=\"name\" name=\"name\"><br><br>\n",
        "            <input type=\"submit\" value=\"Submit\">\n",
        "        </form>\n",
        "    ''')\n",
        "\n",
        "if __name__ == '__main__':\n",
        "    app.run(debug=True)"
      ],
      "metadata": {
        "id": "skBkcTVfcBHB"
      },
      "execution_count": null,
      "outputs": []
    },
    {
      "cell_type": "markdown",
      "source": [
        "**Q 7 How can you validate form data in Flask?**"
      ],
      "metadata": {
        "id": "_EtUp0WdcPyP"
      }
    },
    {
      "cell_type": "code",
      "source": [
        "from flask import Flask, request, render_template_string, redirect, url_for\n",
        "\n",
        "app = Flask(__name__)\n",
        "\n",
        "@app.route('/submit', methods=['GET', 'POST'])\n",
        "def submit():\n",
        "    if request.method == 'POST':\n",
        "        name = request.form.get('name')\n",
        "        email = request.form.get('email')\n",
        "\n",
        "        # Basic validation\n",
        "        if not name:\n",
        "            error = \"Name is required.\"\n",
        "            return render_template_string('''\n",
        "                <form method=\"POST\">\n",
        "                    <label for=\"name\">Name:</label>\n",
        "                    <input type=\"text\" id=\"name\" name=\"name\"><br><br>\n",
        "                    <label for=\"email\">Email:</label>\n",
        "                    <input type=\"email\" id=\"email\" name=\"email\"><br><br>\n",
        "                    <p style=\"color: red;\">{{ error }}</p>\n",
        "                    <input type=\"submit\" value=\"Submit\">\n",
        "                </form>\n",
        "            ''', error=error)\n",
        "\n",
        "        if not email:\n",
        "            error = \"Email is required\"\n",
        "            return render_template_string('''\n",
        "                <form method=\"POST\">\n",
        "                    <label for=\"name\">Name:</label>\n",
        "                    <input type=\"text\" id=\"name\" name=\"name\" value=\"{{ name }}\"><br><br>\n",
        "                    <label for=\"email\">Email:</label>\n",
        "                    <input type=\"email\" id=\"email\" name=\"email\"><br><br>\n",
        "                    <p style=\"color: red;\">{{ error }}</p>\n",
        "                    <input type=\"submit\" value=\"Submit\">\n",
        "                </form>\n",
        "            ''', error=error, name=name)\n",
        "        return render_template_string(\"<h1>Hello {{ name }}! Your email is {{ email }}</h1>\", name=name, email=email)\n",
        "\n",
        "    return render_template_string('''\n",
        "        <form method=\"POST\">\n",
        "            <label for=\"name\">Name:</label>\n",
        "            <input type=\"text\" id=\"name\" name=\"name\"><br><br>\n",
        "            <label for=\"email\">Email:</label>\n",
        "            <input type=\"email\" id=\"email\" name=\"email\"><br><br>\n",
        "            <input type=\"submit\" value=\"Submit\">\n",
        "        </form>\n",
        "    ''')\n",
        "\n",
        "if __name__ == '__main__':\n",
        "    app.run(debug=True)\n"
      ],
      "metadata": {
        "id": "pCI1Pw2Vcfb1"
      },
      "execution_count": null,
      "outputs": []
    },
    {
      "cell_type": "markdown",
      "source": [
        "**Q 8 How do you manage sessions in Flask?**"
      ],
      "metadata": {
        "id": "R0mUzZ5pcooE"
      }
    },
    {
      "cell_type": "code",
      "source": [
        "from flask import Flask, session\n",
        "\n",
        "app = Flask(__name__)\n",
        "app.secret_key = \"your_secret_key\"\n",
        "@app.route('/set_session')\n",
        "def set_session():\n",
        "    session['username'] = 'example_user'\n",
        "    return 'Session variable set!'\n",
        "\n",
        "@app.route('/get_session')\n",
        "def get_session():\n",
        "    if 'username' in session:\n",
        "        return f\"Username: {session['username']}\"\n",
        "    return \"No username in session\"\n",
        "\n",
        "@app.route('/delete_session')\n",
        "def delete_session():\n",
        "    session.pop('username', None)\n",
        "    return 'Session variable removed!'\n",
        "\n",
        "if __name__ == '__main__':\n",
        "    app.run(debug=True)"
      ],
      "metadata": {
        "id": "MuORkqcAc0hn"
      },
      "execution_count": null,
      "outputs": []
    },
    {
      "cell_type": "markdown",
      "source": [
        "**Q 9  How do you redirect to a different route in Flask?**"
      ],
      "metadata": {
        "id": "lGgLYgwAc5QA"
      }
    },
    {
      "cell_type": "code",
      "source": [
        "from flask import redirect, url_for\n",
        "\n",
        "@app.route('/redirect')\n",
        "def redirect_example():\n",
        "    return redirect(url_for('another'))\n",
        "\n",
        "@app.route('/another)\n",
        "def another_route():\n",
        "    return \"You have been redirected!\""
      ],
      "metadata": {
        "id": "m32xh3E3dDIl"
      },
      "execution_count": null,
      "outputs": []
    },
    {
      "cell_type": "markdown",
      "source": [
        "**Q 10 How do you handle errors in Flask (e.g., 404)?**"
      ],
      "metadata": {
        "id": "Sl-r9TFzdIOp"
      }
    },
    {
      "cell_type": "code",
      "source": [
        "from flask import Flask, render_template\n",
        "\n",
        "app = Flask(__name__)\n",
        "\n",
        "@app.errorhandler(404)\n",
        "def page_not_found(error):\n",
        "    return render_template('404.html'),404"
      ],
      "metadata": {
        "id": "jKJ4mJ94dSvP"
      },
      "execution_count": null,
      "outputs": []
    },
    {
      "cell_type": "markdown",
      "source": [
        "**Q 11 How do you structure a Flask app using Blueprints?**"
      ],
      "metadata": {
        "id": "hZ0x-498dcJL"
      }
    },
    {
      "cell_type": "code",
      "source": [
        "from flask import Flask, Blueprint\n",
        "app = Flask(__name__)\n",
        "\n",
        "main = Blueprint('main', __name__)\n",
        "\n",
        "@main.route('/')\n",
        "def index():\n",
        "    return 'Hello from the main blueprint!'\n",
        "\n",
        "@main.route('/about')\n",
        "def about():\n",
        "    return 'About us'\n",
        "app.register_blueprint(main)\n",
        "\n",
        "admin = Blueprint('admin', __name__, url_prefix='/admin')\n",
        "\n",
        "@admin.route('/')\n",
        "def admin_index():\n",
        "    return 'Admin Dashboard'\n",
        "\n",
        "app.register_blueprint(admin)\n",
        "\n",
        "if __name__ == '__main__':\n",
        "    app.run(debug=True)"
      ],
      "metadata": {
        "id": "BzLft8nkdnN6"
      },
      "execution_count": null,
      "outputs": []
    },
    {
      "cell_type": "markdown",
      "source": [
        "**Q 12 How do you define a custom Jinja filter in Flask?**"
      ],
      "metadata": {
        "id": "lKDOqVWEd3-_"
      }
    },
    {
      "cell_type": "code",
      "source": [
        "from flask import Flask, render_template\n",
        "\n",
        "app = Flask(__name__)\n",
        "\n",
        "# Define a custom Jinja filter\n",
        "@app.template_filter('reverse_string')\n",
        "def reverse_filter(s):\n",
        "    return s[::-1]\n",
        "\n",
        "@app.route('/')\n",
        "def index():\n",
        "    my_string = \"Hello, World!\"\n",
        "    return render_template('index.html', my_string=my_string)\n",
        "\n",
        "if __name__ == '__main__':\n",
        "    app.run(debug=True)"
      ],
      "metadata": {
        "id": "E0LvMrqNeIu9"
      },
      "execution_count": null,
      "outputs": []
    },
    {
      "cell_type": "markdown",
      "source": [
        "**Q 13 How can you redirect with query parameters in Flask?**"
      ],
      "metadata": {
        "id": "rQwo2N3jeKKv"
      }
    },
    {
      "cell_type": "code",
      "source": [
        "from flask import Flask, redirect, url_for\n",
        "\n",
        "app = Flask(__name__)\n",
        "\n",
        "@app.route('/redirect_with_params')\n",
        "def redirect_with_params():\n",
        "    return redirect(url_for('target_route', param1='value1', param2='value2'))\n",
        "\n",
        "@app.route('/target')\n",
        "def target_route(param1, param2):\n",
        "    return f\"Target route reached with param1={param1} and param2={param2}\"\n",
        "\n",
        "if __name__ == '__main__':\n",
        "    app.run(debug=True)"
      ],
      "metadata": {
        "id": "x8_a7XpjeVv9"
      },
      "execution_count": null,
      "outputs": []
    },
    {
      "cell_type": "markdown",
      "source": [
        "**Q 14  How do you return JSON responses in Flask?**"
      ],
      "metadata": {
        "id": "Agh1GamieWvi"
      }
    },
    {
      "cell_type": "code",
      "source": [
        "from flask import Flask, jsonify\n",
        "\n",
        "app = Flask(__name__)\n",
        "\n",
        "@app.route('/json_example')\n",
        "def json_example():\n",
        "    data = {'message': 'This is a JSON response', 'key1': 'value1', 'key2': 'value2'}\n",
        "    return jsonify(data)\n",
        "\n",
        "if __name__ == '__main__':\n",
        "    app.run(debug=True)"
      ],
      "metadata": {
        "id": "uF1Sdgs6ee4Q"
      },
      "execution_count": null,
      "outputs": []
    },
    {
      "cell_type": "markdown",
      "source": [
        "**Q 15  How do you capture URL parameters in Flask?**"
      ],
      "metadata": {
        "id": "5DwEjKsDefwy"
      }
    },
    {
      "cell_type": "code",
      "source": [
        "from flask import Flask, request\n",
        "\n",
        "app = Flask(__name__)\n",
        "\n",
        "@app.route('/user/<username>')\n",
        "def show_user_profile(username):\n",
        "    # show the user profile for that user\n",
        "    return f'User {username}'\n",
        "\n",
        "@app.route('/post/<int:post_id>')\n",
        "def show_post(post_id):\n",
        "    # show the post with the given id, the id is an integer\n",
        "    return f'Post {post_id}'\n",
        "\n",
        "@app.route('/path/<path:subpath>')\n",
        "def show_subpath(subpath):\n",
        "    # show the subpath after /path/\n",
        "    return f'Subpath {subpath}'\n",
        "\n",
        "@app.route('/query')\n",
        "def query_example():\n",
        "    param1 = request.args.get('param1', 'default_value') # Get a parameter with default\n",
        "    param2 = request.args.get('param2') # Get a parameter\n",
        "\n",
        "    return f'param1: {param1}, param2: {param2}'"
      ],
      "metadata": {
        "id": "jITT-n3_epOf"
      },
      "execution_count": null,
      "outputs": []
    }
  ]
}